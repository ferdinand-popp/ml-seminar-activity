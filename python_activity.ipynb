{
 "cells": [
  {
   "cell_type": "markdown",
   "id": "852233e2",
   "metadata": {},
   "source": [
    "# <font color=\"darkblue\">Python Activity</font>\n",
    "PLACEHOLDER"
   ]
  },
  {
   "cell_type": "markdown",
   "id": "06fca3d3",
   "metadata": {},
   "source": [
    "### Import the necessary libraries.\n",
    "NOTE: Libraries can be installed via the `pip` command in your terminal (Ex: `pip install pandas`)"
   ]
  },
  {
   "cell_type": "code",
   "execution_count": null,
   "id": "95b324d3",
   "metadata": {},
   "outputs": [],
   "source": []
  },
  {
   "cell_type": "markdown",
   "id": "47ba8295",
   "metadata": {},
   "source": [
    "# <font color = \"lightblue\">1. Data Preprocessing and Feature Engineering</font>\n",
    "### Getting Started with Data Preprocessing: Pandas\n",
    "PLACEHOLDER\n",
    "\n",
    "### \"What's the point of Data Preprocessing?\"\n",
    "PLACEHOLDER\n",
    "\n",
    "### \"What's the point of Feature Engineering?\"\n",
    "PLACEHOLDER\n",
    "\n",
    "### Final Remarks\n",
    "PLACEHOLDER\n",
    "\n",
    "### Data Preprocessing Resources\n",
    "PLACEHOLDER\n"
   ]
  },
  {
   "cell_type": "code",
   "execution_count": null,
   "id": "57dc431a",
   "metadata": {},
   "outputs": [],
   "source": []
  },
  {
   "cell_type": "markdown",
   "id": "602a2dff",
   "metadata": {},
   "source": [
    "# <font color = \"lightblue\">2. Exploratory Data Analysis (EDA)</font>\n",
    "\n",
    "### Getting Started with EDA: Graphing Libraries\n",
    "Within Python, there are typically two graphing libraries that are most commonly used: `Plotly` and `Seaborn`. The benefit of using `Plotly` is that it's quite interactive however `Seaborn` (which in its backend uses the graphing library `Matplotlib`) is used by more Machine Learning Engineers, Data Scientists and Bioinformaticians. Personally, I like to use `Plotly` more often for the interactiveness however, feel free to play around with both and use whichever you prefer.\n",
    "\n",
    "Getting Started with `Plotly`: https://www.youtube.com/watch?v=GGL6U0k8WYA&ab_channel=DerekBanas\n",
    "\n",
    "Getting Started with `Seaborn` and `Matplotlib`: https://www.youtube.com/watch?v=6GUZXDef2U0&ab_channel=DerekBanas\n",
    "\n",
    "### \"What's the point of EDA?\"\n",
    "DESCRIPTION OF EDA HERE.\n",
    "\n",
    "### Final Remarks\n",
    "FINAL REMARKS OF EDA HERE.\n",
    "\n",
    "### EDA Examples\n",
    "ADD EXAMPLES OF EDA HERE."
   ]
  },
  {
   "cell_type": "code",
   "execution_count": null,
   "id": "209ed976",
   "metadata": {},
   "outputs": [],
   "source": []
  },
  {
   "cell_type": "markdown",
   "id": "e8a93c96",
   "metadata": {},
   "source": [
    "# <font color = \"lightblue\">3. Modeling</font>\n",
    "### Getting Started with Modeling: Scikit-Learn and Keras\n",
    "PLACEHOLDER\n",
    "\n",
    "### \"What's the point of Modeling?\"\n",
    "PLACEHOLDER\n",
    "\n",
    "### Final Remarks\n",
    "PLACEHOLDER\n",
    "\n",
    "### Modeling Resources\n",
    "PLACEHOLDER"
   ]
  },
  {
   "cell_type": "code",
   "execution_count": null,
   "id": "8d787d19",
   "metadata": {},
   "outputs": [],
   "source": []
  },
  {
   "cell_type": "markdown",
   "id": "78ffdc4b",
   "metadata": {},
   "source": [
    "# <font color = \"lightblue\">4. Results</font>\n",
    "### \"What's the point of showing results?\"\n",
    "PLACEHOLDER\n",
    "\n",
    "### Final Remarks\n",
    "PLACEHOLDER\n",
    "\n",
    "### Results Visualization Resources\n",
    "PLACEHOLDER"
   ]
  },
  {
   "cell_type": "code",
   "execution_count": null,
   "id": "994aadb4",
   "metadata": {},
   "outputs": [],
   "source": []
  },
  {
   "cell_type": "markdown",
   "id": "38e1e594",
   "metadata": {},
   "source": [
    "# <font color = \"lightblue\">5. Conclusions</font>\n",
    "### \"What's the point of a conclusions section?\"\n",
    "PLACEHOLDER\n",
    "\n",
    "### Final Remarks\n",
    "PLACEHOLDER"
   ]
  },
  {
   "cell_type": "code",
   "execution_count": null,
   "id": "4b6ce3a3",
   "metadata": {},
   "outputs": [],
   "source": []
  },
  {
   "cell_type": "markdown",
   "id": "6ef3ced2",
   "metadata": {},
   "source": [
    "# <font color=\"darkblue\">Wrapping Up</font>\n",
    "PLACEHOLDER."
   ]
  },
  {
   "cell_type": "code",
   "execution_count": null,
   "id": "0db5ae5a",
   "metadata": {},
   "outputs": [],
   "source": []
  }
 ],
 "metadata": {
  "kernelspec": {
   "display_name": "Python 3 (ipykernel)",
   "language": "python",
   "name": "python3"
  },
  "language_info": {
   "codemirror_mode": {
    "name": "ipython",
    "version": 3
   },
   "file_extension": ".py",
   "mimetype": "text/x-python",
   "name": "python",
   "nbconvert_exporter": "python",
   "pygments_lexer": "ipython3",
   "version": "3.9.13"
  }
 },
 "nbformat": 4,
 "nbformat_minor": 5
}
